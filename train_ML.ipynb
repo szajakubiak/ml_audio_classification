{
 "cells": [
  {
   "cell_type": "code",
   "execution_count": null,
   "id": "72f4edc9-c7d9-4b78-9b12-9f5658ebe0a4",
   "metadata": {},
   "outputs": [],
   "source": [
    "import os\n",
    "from pathlib import Path\n",
    "import pandas as pd\n",
    "import csv\n",
    "import numpy as np"
   ]
  },
  {
   "cell_type": "markdown",
   "id": "5f1d8e27-797d-4146-b94d-1d51efba5ba2",
   "metadata": {},
   "source": [
    "## Settings"
   ]
  },
  {
   "cell_type": "code",
   "execution_count": null,
   "id": "948411bb-b9b9-49b9-a716-741f129e38fe",
   "metadata": {},
   "outputs": [],
   "source": [
    "SOURCE_DIRECTORY = \"sample_data\"\n",
    "LABELS = \"labels.csv\""
   ]
  },
  {
   "cell_type": "markdown",
   "id": "3afd6e0b-de26-4b8e-966a-7856723fe87d",
   "metadata": {},
   "source": [
    "## Import data"
   ]
  },
  {
   "cell_type": "code",
   "execution_count": null,
   "id": "6d10f3b3-61f1-4b9e-b213-685fa0dbdbc7",
   "metadata": {},
   "outputs": [],
   "source": [
    "df_labels = pd.read_csv(Path(SOURCE_DIRECTORY + r\"/\" + LABELS), names=[\"file_name\", \"label\"])\n",
    "df_labels.head()"
   ]
  },
  {
   "cell_type": "code",
   "execution_count": null,
   "id": "55a68f68-780e-4e55-a7e5-186c96998740",
   "metadata": {},
   "outputs": [],
   "source": [
    "file_names = os.listdir(SOURCE_DIRECTORY)\n",
    "file_names.remove(LABELS)"
   ]
  },
  {
   "cell_type": "code",
   "execution_count": null,
   "id": "59b775b5-73d9-40ba-b2d9-9189b10d4e6e",
   "metadata": {},
   "outputs": [],
   "source": [
    "data = []\n",
    "for file_name in file_names:\n",
    "    recording = []\n",
    "    with open(Path(SOURCE_DIRECTORY + r\"/\" + file_name), newline=\"\") as inputfile:\n",
    "        for row in csv.reader(inputfile):\n",
    "            recording.append(int(row[0]))\n",
    "    data.append(recording)"
   ]
  },
  {
   "cell_type": "code",
   "execution_count": null,
   "id": "35489d48-dd85-4d62-9ed5-e8b121876b50",
   "metadata": {},
   "outputs": [],
   "source": [
    "df_recordings = pd.DataFrame({\"file_name\": file_names, \"data\": data})\n",
    "df_recordings.head()"
   ]
  },
  {
   "cell_type": "code",
   "execution_count": null,
   "id": "114d8c30-53a0-4407-a3dd-60f8e8121655",
   "metadata": {},
   "outputs": [],
   "source": [
    "df = df_labels.merge(right=df_recordings, how=\"inner\", on=\"file_name\")\n",
    "df.head()"
   ]
  },
  {
   "cell_type": "markdown",
   "id": "f39d2078-110c-496e-a876-327763ff7678",
   "metadata": {},
   "source": [
    "## Slice data into smaller samples"
   ]
  },
  {
   "cell_type": "code",
   "execution_count": null,
   "id": "7756c137-47b4-4ff7-a34d-779c479e2c76",
   "metadata": {},
   "outputs": [],
   "source": [
    "def create_overlapping_windows(data, window_size=200, overlap=100):\n",
    "    \"\"\"\n",
    "    Create overlapping windows from time series data.\n",
    "    \n",
    "    Parameters:\n",
    "    data (list or np.array): The input time series data.\n",
    "    window_size (int): Number of data points per window.\n",
    "    overlap (int): Number of overlapping data points between consecutive windows.\n",
    "\n",
    "    Returns:\n",
    "    windows (list): A list of overlapping windows.\n",
    "    \"\"\"\n",
    "    windows = []\n",
    "    start = 0\n",
    "    step = window_size - overlap\n",
    "\n",
    "    while start + window_size <= len(data):\n",
    "        window = data[start:start + window_size]\n",
    "        windows.append(window)\n",
    "        start += step\n",
    "    \n",
    "    return np.array(windows)\n",
    "\n",
    "def slice_dataframe(df, window_size=200, overlap=100):\n",
    "    \"\"\"\n",
    "    Slice the data column of the DataFrame into overlapping windows, \n",
    "    and keep the file_name and label the same for each slice.\n",
    "    \n",
    "    Parameters:\n",
    "    df (pd.DataFrame): The input DataFrame with columns ['file_name', 'label', 'data'].\n",
    "    window_size (int): Number of data points per window.\n",
    "    overlap (int): Number of overlapping data points between consecutive windows.\n",
    "    \n",
    "    Returns:\n",
    "    pd.DataFrame: A new DataFrame with sliced windows.\n",
    "    \"\"\"\n",
    "    new_rows = []\n",
    "\n",
    "    for idx, row in df.iterrows():\n",
    "        file_name = row['file_name']\n",
    "        label = row['label']\n",
    "        data = row['data']\n",
    "\n",
    "        windows = create_overlapping_windows(data, window_size, overlap)\n",
    "\n",
    "        for window in windows:\n",
    "            new_rows.append({\n",
    "                'file_name': file_name,\n",
    "                'label': label,\n",
    "                'data': window\n",
    "            })\n",
    "\n",
    "    new_df = pd.DataFrame(new_rows)\n",
    "    \n",
    "    return new_df"
   ]
  },
  {
   "cell_type": "code",
   "execution_count": null,
   "id": "622f4018-8f27-4ea1-afb6-1336ec46edbc",
   "metadata": {},
   "outputs": [],
   "source": [
    "df_resliced = slice_dataframe(df, window_size=200, overlap=100)\n",
    "df_resliced.head()"
   ]
  },
  {
   "cell_type": "markdown",
   "id": "a3bcfc00-0915-4700-935e-1d29c34be4eb",
   "metadata": {},
   "source": [
    "## Add metrics"
   ]
  },
  {
   "cell_type": "code",
   "execution_count": null,
   "id": "c3f9375a-1009-47c4-8049-85be786a5366",
   "metadata": {},
   "outputs": [],
   "source": [
    "df[\"mean\"] = df[\"data\"].apply(np.mean)\n",
    "df[\"median\"] = df[\"data\"].apply(np.median)\n",
    "df[\"std\"] = df[\"data\"].apply(np.std)\n",
    "df[\"min\"] = df[\"data\"].apply(np.min)\n",
    "df[\"max\"] = df[\"data\"].apply(np.max)\n",
    "df.head()"
   ]
  },
  {
   "cell_type": "code",
   "execution_count": null,
   "id": "b92c894d-3042-4233-926f-e03c877e6242",
   "metadata": {},
   "outputs": [],
   "source": [
    "def normalize(data : list) -> list:\n",
    "    min_val = np.min(data)\n",
    "    max_val = np.max(data)\n",
    "    data_norm = (data - min_val) / (max_val - min_val)\n",
    "    data_norm = data_norm.round(3)\n",
    "    return data_norm"
   ]
  },
  {
   "cell_type": "code",
   "execution_count": null,
   "id": "b559237a-9d08-4d5d-8192-6d9a9646757d",
   "metadata": {},
   "outputs": [],
   "source": [
    "df[\"data_norm\"] = df[\"data\"].apply(normalize)\n",
    "df.head()"
   ]
  },
  {
   "cell_type": "code",
   "execution_count": null,
   "id": "a197f5cd-ad19-4918-b930-cf53d1233014",
   "metadata": {},
   "outputs": [],
   "source": [
    "df[\"mean_norm\"] = df[\"data_norm\"].apply(np.mean)\n",
    "df[\"median_norm\"] = df[\"data_norm\"].apply(np.median)\n",
    "df[\"std_norm\"] = df[\"data_norm\"].apply(np.std)\n",
    "df.head()"
   ]
  },
  {
   "cell_type": "code",
   "execution_count": null,
   "id": "3dfbe10a-976a-400c-b17d-2b268840ee2c",
   "metadata": {},
   "outputs": [],
   "source": []
  }
 ],
 "metadata": {
  "kernelspec": {
   "display_name": "Python 3 (ipykernel)",
   "language": "python",
   "name": "python3"
  },
  "language_info": {
   "codemirror_mode": {
    "name": "ipython",
    "version": 3
   },
   "file_extension": ".py",
   "mimetype": "text/x-python",
   "name": "python",
   "nbconvert_exporter": "python",
   "pygments_lexer": "ipython3",
   "version": "3.10.12"
  }
 },
 "nbformat": 4,
 "nbformat_minor": 5
}
