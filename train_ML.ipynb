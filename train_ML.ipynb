{
 "cells": [
  {
   "cell_type": "code",
   "execution_count": null,
   "id": "72f4edc9-c7d9-4b78-9b12-9f5658ebe0a4",
   "metadata": {},
   "outputs": [],
   "source": [
    "import os\n",
    "from pathlib import Path\n",
    "import pandas as pd\n",
    "import csv\n",
    "import numpy as np"
   ]
  },
  {
   "cell_type": "markdown",
   "id": "5f1d8e27-797d-4146-b94d-1d51efba5ba2",
   "metadata": {},
   "source": [
    "## Settings"
   ]
  },
  {
   "cell_type": "code",
   "execution_count": null,
   "id": "948411bb-b9b9-49b9-a716-741f129e38fe",
   "metadata": {},
   "outputs": [],
   "source": [
    "SOURCE_DIRECTORY = \"sample_data\"\n",
    "LABELS = \"labels.csv\""
   ]
  },
  {
   "cell_type": "markdown",
   "id": "3afd6e0b-de26-4b8e-966a-7856723fe87d",
   "metadata": {},
   "source": [
    "## Import data"
   ]
  },
  {
   "cell_type": "code",
   "execution_count": null,
   "id": "6d10f3b3-61f1-4b9e-b213-685fa0dbdbc7",
   "metadata": {},
   "outputs": [],
   "source": [
    "df_labels = pd.read_csv(Path(SOURCE_DIRECTORY + r\"/\" + LABELS), names=[\"file_name\", \"label\"])\n",
    "df_labels.head()"
   ]
  },
  {
   "cell_type": "code",
   "execution_count": null,
   "id": "55a68f68-780e-4e55-a7e5-186c96998740",
   "metadata": {},
   "outputs": [],
   "source": [
    "file_names = os.listdir(SOURCE_DIRECTORY)\n",
    "file_names.remove(LABELS)"
   ]
  },
  {
   "cell_type": "code",
   "execution_count": null,
   "id": "59b775b5-73d9-40ba-b2d9-9189b10d4e6e",
   "metadata": {},
   "outputs": [],
   "source": [
    "data = []\n",
    "for file_name in file_names:\n",
    "    recording = []\n",
    "    with open(Path(SOURCE_DIRECTORY + r\"/\" + file_name), newline=\"\") as inputfile:\n",
    "        for row in csv.reader(inputfile):\n",
    "            recording.append(int(row[0]))\n",
    "    data.append(recording)"
   ]
  },
  {
   "cell_type": "code",
   "execution_count": null,
   "id": "35489d48-dd85-4d62-9ed5-e8b121876b50",
   "metadata": {},
   "outputs": [],
   "source": [
    "df_recordings = pd.DataFrame({\"file_name\": file_names, \"data\": data})\n",
    "df_recordings.head()"
   ]
  },
  {
   "cell_type": "code",
   "execution_count": null,
   "id": "114d8c30-53a0-4407-a3dd-60f8e8121655",
   "metadata": {},
   "outputs": [],
   "source": [
    "df = df_labels.merge(right=df_recordings, how=\"inner\", on=\"file_name\")\n",
    "df.head()"
   ]
  },
  {
   "cell_type": "markdown",
   "id": "a3bcfc00-0915-4700-935e-1d29c34be4eb",
   "metadata": {},
   "source": [
    "## Add metrics"
   ]
  },
  {
   "cell_type": "code",
   "execution_count": null,
   "id": "c3f9375a-1009-47c4-8049-85be786a5366",
   "metadata": {},
   "outputs": [],
   "source": [
    "df[\"mean\"] = df[\"data\"].apply(np.mean)\n",
    "df[\"median\"] = df[\"data\"].apply(np.median)\n",
    "df[\"std\"] = df[\"data\"].apply(np.std)\n",
    "df[\"min\"] = df[\"data\"].apply(np.min)\n",
    "df[\"max\"] = df[\"data\"].apply(np.max)\n",
    "df.head()"
   ]
  },
  {
   "cell_type": "code",
   "execution_count": null,
   "id": "b92c894d-3042-4233-926f-e03c877e6242",
   "metadata": {},
   "outputs": [],
   "source": [
    "def normalize(data : list) -> list:\n",
    "    min_val = np.min(data)\n",
    "    max_val = np.max(data)\n",
    "    data_norm = (data - min_val) / (max_val - min_val)\n",
    "    data_norm = data_norm.round(3)\n",
    "    return data_norm"
   ]
  },
  {
   "cell_type": "code",
   "execution_count": null,
   "id": "b559237a-9d08-4d5d-8192-6d9a9646757d",
   "metadata": {},
   "outputs": [],
   "source": [
    "df[\"data_norm\"] = df[\"data\"].apply(normalize)\n",
    "df.head()"
   ]
  },
   "source": []
  }
 ],
 "metadata": {
  "kernelspec": {
   "display_name": "Python 3 (ipykernel)",
   "language": "python",
   "name": "python3"
  },
  "language_info": {
   "codemirror_mode": {
    "name": "ipython",
    "version": 3
   },
   "file_extension": ".py",
   "mimetype": "text/x-python",
   "name": "python",
   "nbconvert_exporter": "python",
   "pygments_lexer": "ipython3",
   "version": "3.11.0"
  }
 },
 "nbformat": 4,
 "nbformat_minor": 5
}
