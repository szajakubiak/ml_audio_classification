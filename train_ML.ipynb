{
 "cells": [
  {
   "cell_type": "code",
   "execution_count": null,
   "id": "72f4edc9-c7d9-4b78-9b12-9f5658ebe0a4",
   "metadata": {},
   "outputs": [],
   "source": [
    "import os\n",
    "from pathlib import Path\n",
    "import pandas as pd\n",
    "import csv"
   ]
  },
  {
   "cell_type": "markdown",
   "id": "5f1d8e27-797d-4146-b94d-1d51efba5ba2",
   "metadata": {},
   "source": [
    "## Settings"
   ]
  },
  {
   "cell_type": "code",
   "execution_count": null,
   "id": "948411bb-b9b9-49b9-a716-741f129e38fe",
   "metadata": {},
   "outputs": [],
   "source": [
    "SOURCE_DIRECTORY = \"sample_data\"\n",
    "LABELS = \"labels.csv\""
   ]
  },
  {
   "cell_type": "markdown",
   "id": "3afd6e0b-de26-4b8e-966a-7856723fe87d",
   "metadata": {},
   "source": [
    "## Import data"
   ]
  },
  {
   "cell_type": "code",
   "execution_count": null,
   "id": "6d10f3b3-61f1-4b9e-b213-685fa0dbdbc7",
   "metadata": {},
   "outputs": [],
   "source": [
    "df_labels = pd.read_csv(Path(SOURCE_DIRECTORY + r\"/\" + LABELS), names=[\"file_name\", \"label\"])\n",
    "df_labels.head()"
   ]
  },
  {
   "cell_type": "code",
   "execution_count": null,
   "id": "55a68f68-780e-4e55-a7e5-186c96998740",
   "metadata": {},
   "outputs": [],
   "source": [
    "file_names = os.listdir(SOURCE_DIRECTORY)\n",
    "file_names.remove(LABELS)"
   ]
  },
  {
   "cell_type": "code",
   "execution_count": null,
   "id": "59b775b5-73d9-40ba-b2d9-9189b10d4e6e",
   "metadata": {},
   "outputs": [],
   "source": [
    "data = []\n",
    "for file_name in file_names:\n",
    "    recording = []\n",
    "    with open(Path(SOURCE_DIRECTORY + r\"/\" + file_name), newline=\"\") as inputfile:\n",
    "        for row in csv.reader(inputfile):\n",
    "            recording.append(row[0])\n",
    "    data.append(recording)"
   ]
  },
  {
   "cell_type": "code",
   "execution_count": null,
   "id": "35489d48-dd85-4d62-9ed5-e8b121876b50",
   "metadata": {},
   "outputs": [],
   "source": [
    "df_recordings = pd.DataFrame({\"file_name\": file_names, \"data\": data})\n",
    "df_recordings.head()"
   ]
  },
  {
   "cell_type": "code",
   "execution_count": null,
   "id": "114d8c30-53a0-4407-a3dd-60f8e8121655",
   "metadata": {},
   "outputs": [],
   "source": [
    "df = df_labels.merge(right=df_recordings, how=\"inner\", on=\"file_name\")\n",
    "df.head()"
   ]
  },
  {
   "cell_type": "code",
   "execution_count": null,
   "id": "cb06964e-e5c3-4792-bc6e-183bc4ae7b21",
   "metadata": {},
   "outputs": [],
   "source": []
  }
 ],
 "metadata": {
  "kernelspec": {
   "display_name": "Python 3 (ipykernel)",
   "language": "python",
   "name": "python3"
  },
  "language_info": {
   "codemirror_mode": {
    "name": "ipython",
    "version": 3
   },
   "file_extension": ".py",
   "mimetype": "text/x-python",
   "name": "python",
   "nbconvert_exporter": "python",
   "pygments_lexer": "ipython3",
   "version": "3.10.12"
  }
 },
 "nbformat": 4,
 "nbformat_minor": 5
}
